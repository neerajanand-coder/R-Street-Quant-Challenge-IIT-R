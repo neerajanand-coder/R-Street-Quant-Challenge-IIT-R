{
 "cells": [
  {
   "cell_type": "code",
   "execution_count": 1,
   "id": "35b80a99",
   "metadata": {
    "_cell_guid": "b1076dfc-b9ad-4769-8c92-a6c4dae69d19",
    "_uuid": "8f2839f25d086af736a60e9eeb907d3b93b6e0e5",
    "execution": {
     "iopub.execute_input": "2021-12-08T16:02:53.643980Z",
     "iopub.status.busy": "2021-12-08T16:02:53.643307Z",
     "iopub.status.idle": "2021-12-08T16:02:53.652446Z",
     "shell.execute_reply": "2021-12-08T16:02:53.651721Z",
     "shell.execute_reply.started": "2021-12-08T15:38:21.735996Z"
    },
    "papermill": {
     "duration": 0.034868,
     "end_time": "2021-12-08T16:02:53.652644",
     "exception": false,
     "start_time": "2021-12-08T16:02:53.617776",
     "status": "completed"
    },
    "tags": []
   },
   "outputs": [
    {
     "name": "stdout",
     "output_type": "stream",
     "text": [
      "/kaggle/input/r-street-quant-challenge/sample_submission.csv\n",
      "/kaggle/input/r-street-quant-challenge/train_target.csv\n",
      "/kaggle/input/r-street-quant-challenge/train_data.csv\n",
      "/kaggle/input/r-street-quant-challenge/test_data.csv\n"
     ]
    }
   ],
   "source": [
    "# This Python 3 environment comes with many helpful analytics libraries installed\n",
    "# It is defined by the kaggle/python Docker image: https://github.com/kaggle/docker-python\n",
    "# For example, here's several helpful packages to load\n",
    "\n",
    "import numpy as np # linear algebra\n",
    "import pandas as pd # data processing, CSV file I/O (e.g. pd.read_csv)\n",
    "\n",
    "# Input data files are available in the read-only \"../input/\" directory\n",
    "# For example, running this (by clicking run or pressing Shift+Enter) will list all files under the input directory\n",
    "\n",
    "import os\n",
    "for dirname, _, filenames in os.walk('/kaggle/input'):\n",
    "    for filename in filenames:\n",
    "        print(os.path.join(dirname, filename))\n",
    "\n",
    "# You can write up to 20GB to the current directory (/kaggle/working/) that gets preserved as output when you create a version using \"Save & Run All\" \n",
    "# You can also write temporary files to /kaggle/temp/, but they won't be saved outside of the current session"
   ]
  },
  {
   "cell_type": "code",
   "execution_count": 2,
   "id": "114097fc",
   "metadata": {
    "execution": {
     "iopub.execute_input": "2021-12-08T16:02:53.694210Z",
     "iopub.status.busy": "2021-12-08T16:02:53.693557Z",
     "iopub.status.idle": "2021-12-08T16:02:53.895562Z",
     "shell.execute_reply": "2021-12-08T16:02:53.894908Z",
     "shell.execute_reply.started": "2021-12-08T15:38:21.775914Z"
    },
    "papermill": {
     "duration": 0.225667,
     "end_time": "2021-12-08T16:02:53.895714",
     "exception": false,
     "start_time": "2021-12-08T16:02:53.670047",
     "status": "completed"
    },
    "tags": []
   },
   "outputs": [],
   "source": [
    "train_df=pd.read_csv('/kaggle/input/r-street-quant-challenge/train_data.csv')\n",
    "train_target=pd.read_csv('/kaggle/input/r-street-quant-challenge/train_target.csv')\n"
   ]
  },
  {
   "cell_type": "code",
   "execution_count": 3,
   "id": "39dcee87",
   "metadata": {
    "execution": {
     "iopub.execute_input": "2021-12-08T16:02:53.932611Z",
     "iopub.status.busy": "2021-12-08T16:02:53.931745Z",
     "iopub.status.idle": "2021-12-08T16:02:53.953670Z",
     "shell.execute_reply": "2021-12-08T16:02:53.952964Z",
     "shell.execute_reply.started": "2021-12-08T15:38:21.964162Z"
    },
    "papermill": {
     "duration": 0.040863,
     "end_time": "2021-12-08T16:02:53.953819",
     "exception": false,
     "start_time": "2021-12-08T16:02:53.912956",
     "status": "completed"
    },
    "tags": []
   },
   "outputs": [
    {
     "data": {
      "text/plain": [
       "(10317, 2)"
      ]
     },
     "execution_count": 3,
     "metadata": {},
     "output_type": "execute_result"
    }
   ],
   "source": [
    "pd.read_csv('/kaggle/input/r-street-quant-challenge/sample_submission.csv').shape"
   ]
  },
  {
   "cell_type": "code",
   "execution_count": 4,
   "id": "1c65928b",
   "metadata": {
    "execution": {
     "iopub.execute_input": "2021-12-08T16:02:53.994968Z",
     "iopub.status.busy": "2021-12-08T16:02:53.993192Z",
     "iopub.status.idle": "2021-12-08T16:02:54.061118Z",
     "shell.execute_reply": "2021-12-08T16:02:54.060532Z",
     "shell.execute_reply.started": "2021-12-08T15:38:21.984667Z"
    },
    "papermill": {
     "duration": 0.090185,
     "end_time": "2021-12-08T16:02:54.061264",
     "exception": false,
     "start_time": "2021-12-08T16:02:53.971079",
     "status": "completed"
    },
    "tags": []
   },
   "outputs": [],
   "source": [
    "df_test=pd.read_csv('/kaggle/input/r-street-quant-challenge/test_data.csv')"
   ]
  },
  {
   "cell_type": "code",
   "execution_count": 5,
   "id": "b81b4f01",
   "metadata": {
    "execution": {
     "iopub.execute_input": "2021-12-08T16:02:54.098199Z",
     "iopub.status.busy": "2021-12-08T16:02:54.097529Z",
     "iopub.status.idle": "2021-12-08T16:02:54.100369Z",
     "shell.execute_reply": "2021-12-08T16:02:54.100886Z",
     "shell.execute_reply.started": "2021-12-08T15:38:22.054491Z"
    },
    "papermill": {
     "duration": 0.022989,
     "end_time": "2021-12-08T16:02:54.101066",
     "exception": false,
     "start_time": "2021-12-08T16:02:54.078077",
     "status": "completed"
    },
    "tags": []
   },
   "outputs": [],
   "source": [
    "# %pip install sweetviz"
   ]
  },
  {
   "cell_type": "code",
   "execution_count": 6,
   "id": "c9763a38",
   "metadata": {
    "execution": {
     "iopub.execute_input": "2021-12-08T16:02:54.140024Z",
     "iopub.status.busy": "2021-12-08T16:02:54.139336Z",
     "iopub.status.idle": "2021-12-08T16:02:54.142193Z",
     "shell.execute_reply": "2021-12-08T16:02:54.142670Z",
     "shell.execute_reply.started": "2021-12-08T15:38:22.061842Z"
    },
    "papermill": {
     "duration": 0.024349,
     "end_time": "2021-12-08T16:02:54.142972",
     "exception": false,
     "start_time": "2021-12-08T16:02:54.118623",
     "status": "completed"
    },
    "tags": []
   },
   "outputs": [],
   "source": [
    "# import sweetviz as sv\n",
    "# rep=sv.analyze(train_df)\n",
    "# rep.show_html('Analisyis.html')"
   ]
  },
  {
   "cell_type": "code",
   "execution_count": 7,
   "id": "b1475aa0",
   "metadata": {
    "execution": {
     "iopub.execute_input": "2021-12-08T16:02:54.181200Z",
     "iopub.status.busy": "2021-12-08T16:02:54.180347Z",
     "iopub.status.idle": "2021-12-08T16:02:54.183489Z",
     "shell.execute_reply": "2021-12-08T16:02:54.183992Z",
     "shell.execute_reply.started": "2021-12-08T15:38:22.073379Z"
    },
    "papermill": {
     "duration": 0.023595,
     "end_time": "2021-12-08T16:02:54.184161",
     "exception": false,
     "start_time": "2021-12-08T16:02:54.160566",
     "status": "completed"
    },
    "tags": []
   },
   "outputs": [],
   "source": [
    "# %pip  install AutoViz"
   ]
  },
  {
   "cell_type": "code",
   "execution_count": 8,
   "id": "f893f88b",
   "metadata": {
    "execution": {
     "iopub.execute_input": "2021-12-08T16:02:54.221458Z",
     "iopub.status.busy": "2021-12-08T16:02:54.220860Z",
     "iopub.status.idle": "2021-12-08T16:02:54.223492Z",
     "shell.execute_reply": "2021-12-08T16:02:54.223955Z",
     "shell.execute_reply.started": "2021-12-08T15:38:22.087221Z"
    },
    "papermill": {
     "duration": 0.022412,
     "end_time": "2021-12-08T16:02:54.224118",
     "exception": false,
     "start_time": "2021-12-08T16:02:54.201706",
     "status": "completed"
    },
    "tags": []
   },
   "outputs": [],
   "source": [
    "# from autoviz.AutoViz_Class import AutoViz_Class"
   ]
  },
  {
   "cell_type": "code",
   "execution_count": 9,
   "id": "288bb290",
   "metadata": {
    "execution": {
     "iopub.execute_input": "2021-12-08T16:02:54.263188Z",
     "iopub.status.busy": "2021-12-08T16:02:54.262525Z",
     "iopub.status.idle": "2021-12-08T16:02:54.264133Z",
     "shell.execute_reply": "2021-12-08T16:02:54.264591Z",
     "shell.execute_reply.started": "2021-12-08T15:38:22.099331Z"
    },
    "papermill": {
     "duration": 0.023374,
     "end_time": "2021-12-08T16:02:54.264759",
     "exception": false,
     "start_time": "2021-12-08T16:02:54.241385",
     "status": "completed"
    },
    "tags": []
   },
   "outputs": [],
   "source": [
    "# av=AutoViz_Class()\n",
    "# dk=av.AutoViz('/kaggle/input/r-street-quant-challenge/train_data.csv')\n"
   ]
  },
  {
   "cell_type": "code",
   "execution_count": 10,
   "id": "e235597f",
   "metadata": {
    "execution": {
     "iopub.execute_input": "2021-12-08T16:02:54.307467Z",
     "iopub.status.busy": "2021-12-08T16:02:54.306844Z",
     "iopub.status.idle": "2021-12-08T16:02:54.309604Z",
     "shell.execute_reply": "2021-12-08T16:02:54.310078Z",
     "shell.execute_reply.started": "2021-12-08T15:38:22.118334Z"
    },
    "papermill": {
     "duration": 0.026634,
     "end_time": "2021-12-08T16:02:54.310248",
     "exception": false,
     "start_time": "2021-12-08T16:02:54.283614",
     "status": "completed"
    },
    "tags": []
   },
   "outputs": [
    {
     "data": {
      "text/plain": [
       "Index(['Id', 'date', 'open', 'high', 'low', 'close', 'day', 'week', 'SMA_7',\n",
       "       'SMA_14', 'SMA_21', 'RSI_7', 'RSI_14', 'RSI_21', 'ATR_14', 'bb_mavg',\n",
       "       'bb_hband', 'bb_lband'],\n",
       "      dtype='object')"
      ]
     },
     "execution_count": 10,
     "metadata": {},
     "output_type": "execute_result"
    }
   ],
   "source": [
    "train_df.columns"
   ]
  },
  {
   "cell_type": "code",
   "execution_count": 11,
   "id": "016f6bb3",
   "metadata": {
    "execution": {
     "iopub.execute_input": "2021-12-08T16:02:54.355302Z",
     "iopub.status.busy": "2021-12-08T16:02:54.348350Z",
     "iopub.status.idle": "2021-12-08T16:02:54.806248Z",
     "shell.execute_reply": "2021-12-08T16:02:54.807044Z",
     "shell.execute_reply.started": "2021-12-08T15:38:22.133984Z"
    },
    "papermill": {
     "duration": 0.479822,
     "end_time": "2021-12-08T16:02:54.807238",
     "exception": false,
     "start_time": "2021-12-08T16:02:54.327416",
     "status": "completed"
    },
    "tags": []
   },
   "outputs": [
    {
     "name": "stdout",
     "output_type": "stream",
     "text": [
      "done\n"
     ]
    }
   ],
   "source": [
    "arr=train_target.target.to_numpy()\n",
    "df2 = pd.DataFrame({'target': arr})\n",
    "frames = [train_df, df2]\n",
    "result = pd.concat(frames,axis=1)\n",
    "result.to_csv('final_train.csv')\n",
    "print('done')"
   ]
  },
  {
   "cell_type": "code",
   "execution_count": 12,
   "id": "0dc8f562",
   "metadata": {
    "execution": {
     "iopub.execute_input": "2021-12-08T16:02:54.849402Z",
     "iopub.status.busy": "2021-12-08T16:02:54.848786Z",
     "iopub.status.idle": "2021-12-08T16:02:54.962474Z",
     "shell.execute_reply": "2021-12-08T16:02:54.963012Z",
     "shell.execute_reply.started": "2021-12-08T15:38:22.619672Z"
    },
    "papermill": {
     "duration": 0.137776,
     "end_time": "2021-12-08T16:02:54.963184",
     "exception": false,
     "start_time": "2021-12-08T16:02:54.825408",
     "status": "completed"
    },
    "tags": []
   },
   "outputs": [
    {
     "data": {
      "text/html": [
       "<div>\n",
       "<style scoped>\n",
       "    .dataframe tbody tr th:only-of-type {\n",
       "        vertical-align: middle;\n",
       "    }\n",
       "\n",
       "    .dataframe tbody tr th {\n",
       "        vertical-align: top;\n",
       "    }\n",
       "\n",
       "    .dataframe thead th {\n",
       "        text-align: right;\n",
       "    }\n",
       "</style>\n",
       "<table border=\"1\" class=\"dataframe\">\n",
       "  <thead>\n",
       "    <tr style=\"text-align: right;\">\n",
       "      <th></th>\n",
       "      <th>Unnamed: 0</th>\n",
       "      <th>Id</th>\n",
       "      <th>date</th>\n",
       "      <th>open</th>\n",
       "      <th>high</th>\n",
       "      <th>low</th>\n",
       "      <th>close</th>\n",
       "      <th>day</th>\n",
       "      <th>week</th>\n",
       "      <th>SMA_7</th>\n",
       "      <th>SMA_14</th>\n",
       "      <th>SMA_21</th>\n",
       "      <th>RSI_7</th>\n",
       "      <th>RSI_14</th>\n",
       "      <th>RSI_21</th>\n",
       "      <th>ATR_14</th>\n",
       "      <th>bb_mavg</th>\n",
       "      <th>bb_hband</th>\n",
       "      <th>bb_lband</th>\n",
       "      <th>target</th>\n",
       "    </tr>\n",
       "  </thead>\n",
       "  <tbody>\n",
       "    <tr>\n",
       "      <th>0</th>\n",
       "      <td>0</td>\n",
       "      <td>0</td>\n",
       "      <td>2015-01-12 09:15:00+05:30</td>\n",
       "      <td>0.252483</td>\n",
       "      <td>0.249671</td>\n",
       "      <td>0.255665</td>\n",
       "      <td>0.250255</td>\n",
       "      <td>12</td>\n",
       "      <td>3</td>\n",
       "      <td>0.249131</td>\n",
       "      <td>0.246873</td>\n",
       "      <td>0.247927</td>\n",
       "      <td>54.402627</td>\n",
       "      <td>48.236033</td>\n",
       "      <td>45.263488</td>\n",
       "      <td>0.007017</td>\n",
       "      <td>0.247667</td>\n",
       "      <td>0.256181</td>\n",
       "      <td>0.239153</td>\n",
       "      <td>1</td>\n",
       "    </tr>\n",
       "    <tr>\n",
       "      <th>1</th>\n",
       "      <td>1</td>\n",
       "      <td>1</td>\n",
       "      <td>2015-01-12 09:30:00+05:30</td>\n",
       "      <td>0.247851</td>\n",
       "      <td>0.246028</td>\n",
       "      <td>0.257602</td>\n",
       "      <td>0.251258</td>\n",
       "      <td>12</td>\n",
       "      <td>3</td>\n",
       "      <td>0.250327</td>\n",
       "      <td>0.247607</td>\n",
       "      <td>0.247838</td>\n",
       "      <td>57.307707</td>\n",
       "      <td>49.928940</td>\n",
       "      <td>46.453986</td>\n",
       "      <td>0.007040</td>\n",
       "      <td>0.247534</td>\n",
       "      <td>0.255730</td>\n",
       "      <td>0.239338</td>\n",
       "      <td>0</td>\n",
       "    </tr>\n",
       "    <tr>\n",
       "      <th>2</th>\n",
       "      <td>2</td>\n",
       "      <td>2</td>\n",
       "      <td>2015-01-12 09:45:00+05:30</td>\n",
       "      <td>0.248817</td>\n",
       "      <td>0.248992</td>\n",
       "      <td>0.259178</td>\n",
       "      <td>0.253956</td>\n",
       "      <td>12</td>\n",
       "      <td>3</td>\n",
       "      <td>0.251520</td>\n",
       "      <td>0.248550</td>\n",
       "      <td>0.247840</td>\n",
       "      <td>64.423555</td>\n",
       "      <td>54.263566</td>\n",
       "      <td>49.554022</td>\n",
       "      <td>0.007103</td>\n",
       "      <td>0.247566</td>\n",
       "      <td>0.255858</td>\n",
       "      <td>0.239275</td>\n",
       "      <td>1</td>\n",
       "    </tr>\n",
       "    <tr>\n",
       "      <th>3</th>\n",
       "      <td>3</td>\n",
       "      <td>3</td>\n",
       "      <td>2015-01-12 10:00:00+05:30</td>\n",
       "      <td>0.251481</td>\n",
       "      <td>0.249916</td>\n",
       "      <td>0.260682</td>\n",
       "      <td>0.253628</td>\n",
       "      <td>12</td>\n",
       "      <td>3</td>\n",
       "      <td>0.252341</td>\n",
       "      <td>0.248788</td>\n",
       "      <td>0.247855</td>\n",
       "      <td>62.935127</td>\n",
       "      <td>53.655190</td>\n",
       "      <td>49.190342</td>\n",
       "      <td>0.007076</td>\n",
       "      <td>0.247743</td>\n",
       "      <td>0.256385</td>\n",
       "      <td>0.239101</td>\n",
       "      <td>0</td>\n",
       "    </tr>\n",
       "    <tr>\n",
       "      <th>4</th>\n",
       "      <td>4</td>\n",
       "      <td>4</td>\n",
       "      <td>2015-01-12 10:15:00+05:30</td>\n",
       "      <td>0.251066</td>\n",
       "      <td>0.250750</td>\n",
       "      <td>0.262421</td>\n",
       "      <td>0.255314</td>\n",
       "      <td>12</td>\n",
       "      <td>3</td>\n",
       "      <td>0.253037</td>\n",
       "      <td>0.249406</td>\n",
       "      <td>0.248103</td>\n",
       "      <td>67.444567</td>\n",
       "      <td>56.362731</td>\n",
       "      <td>51.125779</td>\n",
       "      <td>0.007199</td>\n",
       "      <td>0.248086</td>\n",
       "      <td>0.257337</td>\n",
       "      <td>0.238835</td>\n",
       "      <td>0</td>\n",
       "    </tr>\n",
       "  </tbody>\n",
       "</table>\n",
       "</div>"
      ],
      "text/plain": [
       "   Unnamed: 0  Id                       date      open      high       low  \\\n",
       "0           0   0  2015-01-12 09:15:00+05:30  0.252483  0.249671  0.255665   \n",
       "1           1   1  2015-01-12 09:30:00+05:30  0.247851  0.246028  0.257602   \n",
       "2           2   2  2015-01-12 09:45:00+05:30  0.248817  0.248992  0.259178   \n",
       "3           3   3  2015-01-12 10:00:00+05:30  0.251481  0.249916  0.260682   \n",
       "4           4   4  2015-01-12 10:15:00+05:30  0.251066  0.250750  0.262421   \n",
       "\n",
       "      close  day  week     SMA_7    SMA_14    SMA_21      RSI_7     RSI_14  \\\n",
       "0  0.250255   12     3  0.249131  0.246873  0.247927  54.402627  48.236033   \n",
       "1  0.251258   12     3  0.250327  0.247607  0.247838  57.307707  49.928940   \n",
       "2  0.253956   12     3  0.251520  0.248550  0.247840  64.423555  54.263566   \n",
       "3  0.253628   12     3  0.252341  0.248788  0.247855  62.935127  53.655190   \n",
       "4  0.255314   12     3  0.253037  0.249406  0.248103  67.444567  56.362731   \n",
       "\n",
       "      RSI_21    ATR_14   bb_mavg  bb_hband  bb_lband  target  \n",
       "0  45.263488  0.007017  0.247667  0.256181  0.239153       1  \n",
       "1  46.453986  0.007040  0.247534  0.255730  0.239338       0  \n",
       "2  49.554022  0.007103  0.247566  0.255858  0.239275       1  \n",
       "3  49.190342  0.007076  0.247743  0.256385  0.239101       0  \n",
       "4  51.125779  0.007199  0.248086  0.257337  0.238835       0  "
      ]
     },
     "execution_count": 12,
     "metadata": {},
     "output_type": "execute_result"
    }
   ],
   "source": [
    "df=pd.read_csv('final_train.csv')\n",
    "df.head()"
   ]
  },
  {
   "cell_type": "code",
   "execution_count": 13,
   "id": "d78a5f21",
   "metadata": {
    "execution": {
     "iopub.execute_input": "2021-12-08T16:02:55.008544Z",
     "iopub.status.busy": "2021-12-08T16:02:55.004276Z",
     "iopub.status.idle": "2021-12-08T16:02:55.012440Z",
     "shell.execute_reply": "2021-12-08T16:02:55.012979Z",
     "shell.execute_reply.started": "2021-12-08T15:38:22.752500Z"
    },
    "papermill": {
     "duration": 0.03079,
     "end_time": "2021-12-08T16:02:55.013170",
     "exception": false,
     "start_time": "2021-12-08T16:02:54.982380",
     "status": "completed"
    },
    "tags": []
   },
   "outputs": [],
   "source": [
    "df_train=df.drop(['Unnamed: 0'],axis=1)"
   ]
  },
  {
   "cell_type": "code",
   "execution_count": 14,
   "id": "af4fb706",
   "metadata": {
    "execution": {
     "iopub.execute_input": "2021-12-08T16:02:55.058914Z",
     "iopub.status.busy": "2021-12-08T16:02:55.055264Z",
     "iopub.status.idle": "2021-12-08T16:02:55.060860Z",
     "shell.execute_reply": "2021-12-08T16:02:55.061384Z",
     "shell.execute_reply.started": "2021-12-08T15:47:03.330794Z"
    },
    "papermill": {
     "duration": 0.028489,
     "end_time": "2021-12-08T16:02:55.061581",
     "exception": false,
     "start_time": "2021-12-08T16:02:55.033092",
     "status": "completed"
    },
    "tags": []
   },
   "outputs": [],
   "source": [
    "\n",
    "def clean_data(df_train):\n",
    "    from sklearn.impute import SimpleImputer\n",
    "    my_imputer = SimpleImputer()\n",
    "    imputed_df_train = pd.DataFrame(my_imputer.fit_transform(df_train))\n",
    "    imputed_df_train.columns = df_train.columns \n",
    "    cols_with_missing = [col for col in df_train_copy.columns\n",
    "                     if df_train_copy[col].isnull().any()]\n",
    "    print('Number of null value colums after cleaning = ',len(cols_with_missing))\n",
    "    return imputed_df_train"
   ]
  },
  {
   "cell_type": "code",
   "execution_count": 15,
   "id": "e9e8557b",
   "metadata": {
    "execution": {
     "iopub.execute_input": "2021-12-08T16:02:55.103326Z",
     "iopub.status.busy": "2021-12-08T16:02:55.102457Z",
     "iopub.status.idle": "2021-12-08T16:02:56.593298Z",
     "shell.execute_reply": "2021-12-08T16:02:56.594005Z",
     "shell.execute_reply.started": "2021-12-08T15:47:03.785911Z"
    },
    "papermill": {
     "duration": 1.513892,
     "end_time": "2021-12-08T16:02:56.594236",
     "exception": false,
     "start_time": "2021-12-08T16:02:55.080344",
     "status": "completed"
    },
    "tags": []
   },
   "outputs": [],
   "source": [
    "from sklearn.preprocessing import OrdinalEncoder\n",
    "from sklearn.ensemble import RandomForestRegressor\n",
    "from xgboost import XGBRegressor\n",
    "from sklearn.metrics import mean_squared_error\n"
   ]
  },
  {
   "cell_type": "code",
   "execution_count": 16,
   "id": "9cfaa6df",
   "metadata": {
    "execution": {
     "iopub.execute_input": "2021-12-08T16:02:56.636664Z",
     "iopub.status.busy": "2021-12-08T16:02:56.635914Z",
     "iopub.status.idle": "2021-12-08T16:02:56.640745Z",
     "shell.execute_reply": "2021-12-08T16:02:56.641247Z",
     "shell.execute_reply.started": "2021-12-08T15:47:04.118034Z"
    },
    "papermill": {
     "duration": 0.027806,
     "end_time": "2021-12-08T16:02:56.641429",
     "exception": false,
     "start_time": "2021-12-08T16:02:56.613623",
     "status": "completed"
    },
    "tags": []
   },
   "outputs": [],
   "source": [
    "import pandas as pd\n",
    "import numpy as np\n",
    "from sklearn import preprocessing\n",
    "from sklearn.model_selection import train_test_split\n",
    "from sklearn.ensemble import RandomForestRegressor\n",
    "from sklearn.metrics import mean_squared_error\n",
    "from xgboost import XGBRegressor\n",
    "from sklearn.linear_model import LinearRegression\n",
    "from sklearn import model_selection\n",
    "from sklearn.preprocessing import MinMaxScaler\n",
    "from sklearn.metrics import roc_auc_score\n",
    "from sklearn.preprocessing import OneHotEncoder"
   ]
  },
  {
   "cell_type": "code",
   "execution_count": 17,
   "id": "9b4f1791",
   "metadata": {
    "execution": {
     "iopub.execute_input": "2021-12-08T16:02:56.683260Z",
     "iopub.status.busy": "2021-12-08T16:02:56.682651Z",
     "iopub.status.idle": "2021-12-08T16:02:56.686393Z",
     "shell.execute_reply": "2021-12-08T16:02:56.686929Z",
     "shell.execute_reply.started": "2021-12-08T15:47:04.843521Z"
    },
    "papermill": {
     "duration": 0.026286,
     "end_time": "2021-12-08T16:02:56.687107",
     "exception": false,
     "start_time": "2021-12-08T16:02:56.660821",
     "status": "completed"
    },
    "tags": []
   },
   "outputs": [],
   "source": [
    "params_tw = {\n",
    "        'learning_rate': 0.06853392035787837,\n",
    "        'reg_lambda': 1.7549293092194938e-05,\n",
    "        'reg_alpha': 14.68267919457715, \n",
    "        'subsample': 0.8031450486786944, \n",
    "        'colsample_bytree': 0.170759104940733, \n",
    "        'max_depth': 4,\n",
    "    }"
   ]
  },
  {
   "cell_type": "code",
   "execution_count": 18,
   "id": "762b55d8",
   "metadata": {
    "execution": {
     "iopub.execute_input": "2021-12-08T16:02:56.729700Z",
     "iopub.status.busy": "2021-12-08T16:02:56.728978Z",
     "iopub.status.idle": "2021-12-08T16:02:57.014015Z",
     "shell.execute_reply": "2021-12-08T16:02:57.014538Z",
     "shell.execute_reply.started": "2021-12-08T15:47:05.197393Z"
    },
    "papermill": {
     "duration": 0.308482,
     "end_time": "2021-12-08T16:02:57.014738",
     "exception": false,
     "start_time": "2021-12-08T16:02:56.706256",
     "status": "completed"
    },
    "tags": []
   },
   "outputs": [],
   "source": [
    "df_train['date'] = pd.to_datetime(df_train['date'])\n",
    "df_train['year'] = df_train['date'].dt.year\n",
    "df_train['month'] = df_train['date'].dt.month\n",
    "df_train['day'] = df_train['date'].dt.day\n",
    "df_train['hour'] = df_train['date'].dt.hour\n",
    "df_train['minute'] =df_train['date'].dt.minute\n",
    "df_test['date'] = pd.to_datetime(df_test['date'])\n",
    "df_test['year'] = df_test['date'].dt.year\n",
    "df_test['month'] =df_test['date'].dt.month\n",
    "df_test['day'] = df_test['date'].dt.day\n",
    "df_test['hour'] = df_test['date'].dt.hour\n",
    "df_test['minute'] = df_test['date'].dt.minute"
   ]
  },
  {
   "cell_type": "code",
   "execution_count": 19,
   "id": "38a4a04c",
   "metadata": {
    "execution": {
     "iopub.execute_input": "2021-12-08T16:02:57.059269Z",
     "iopub.status.busy": "2021-12-08T16:02:57.058615Z",
     "iopub.status.idle": "2021-12-08T16:02:57.061927Z",
     "shell.execute_reply": "2021-12-08T16:02:57.061267Z",
     "shell.execute_reply.started": "2021-12-08T15:47:09.194913Z"
    },
    "papermill": {
     "duration": 0.028435,
     "end_time": "2021-12-08T16:02:57.062085",
     "exception": false,
     "start_time": "2021-12-08T16:02:57.033650",
     "status": "completed"
    },
    "tags": []
   },
   "outputs": [
    {
     "name": "stdout",
     "output_type": "stream",
     "text": [
      "['week', 'hour', 'month', 'year', 'day', 'minute']\n"
     ]
    }
   ],
   "source": [
    "num_cols = list(set(df_train.columns)-{'Id','date','day', 'week','year','month','hour','minute'})\n",
    "cat_cols = list(set(df_train.columns)-set(num_cols)-{'Id','date'})\n",
    "print(cat_cols)"
   ]
  },
  {
   "cell_type": "code",
   "execution_count": 20,
   "id": "b05a3851",
   "metadata": {
    "execution": {
     "iopub.execute_input": "2021-12-08T16:02:57.105265Z",
     "iopub.status.busy": "2021-12-08T16:02:57.104549Z",
     "iopub.status.idle": "2021-12-08T16:02:57.733926Z",
     "shell.execute_reply": "2021-12-08T16:02:57.733442Z",
     "shell.execute_reply.started": "2021-12-08T15:47:09.549069Z"
    },
    "papermill": {
     "duration": 0.653593,
     "end_time": "2021-12-08T16:02:57.734070",
     "exception": false,
     "start_time": "2021-12-08T16:02:57.080477",
     "status": "completed"
    },
    "tags": []
   },
   "outputs": [
    {
     "data": {
      "text/plain": [
       "['SMA_21',\n",
       " 'close',\n",
       " 'SMA_14',\n",
       " 'bb_mavg',\n",
       " 'high',\n",
       " 'low',\n",
       " 'open',\n",
       " 'SMA_7',\n",
       " 'bb_lband']"
      ]
     },
     "execution_count": 20,
     "metadata": {},
     "output_type": "execute_result"
    },
    {
     "data": {
      "image/png": "[encoded data removed]",
      "text/plain": [
       "<Figure size 432x288 with 2 Axes>"
      ]
     },
     "metadata": {
      "needs_background": "light"
     },
     "output_type": "display_data"
    }
   ],
   "source": [
    "import seaborn as sns\n",
    "corr_matrix = df_train[num_cols].corr()\n",
    "upper = corr_matrix.where(np.triu(np.ones(corr_matrix.shape), k=1).astype(bool))\n",
    "sns.heatmap(upper)\n",
    "to_drop = [column for column in upper.columns if any(upper[column] > 0.999)]\n",
    "to_drop"
   ]
  },
  {
   "cell_type": "code",
   "execution_count": 21,
   "id": "02b9740b",
   "metadata": {
    "execution": {
     "iopub.execute_input": "2021-12-08T16:02:57.793380Z",
     "iopub.status.busy": "2021-12-08T16:02:57.784379Z",
     "iopub.status.idle": "2021-12-08T16:02:57.799071Z",
     "shell.execute_reply": "2021-12-08T16:02:57.798561Z",
     "shell.execute_reply.started": "2021-12-08T15:47:10.171079Z"
    },
    "papermill": {
     "duration": 0.046081,
     "end_time": "2021-12-08T16:02:57.799217",
     "exception": false,
     "start_time": "2021-12-08T16:02:57.753136",
     "status": "completed"
    },
    "tags": []
   },
   "outputs": [
    {
     "data": {
      "text/html": [
       "<div>\n",
       "<style scoped>\n",
       "    .dataframe tbody tr th:only-of-type {\n",
       "        vertical-align: middle;\n",
       "    }\n",
       "\n",
       "    .dataframe tbody tr th {\n",
       "        vertical-align: top;\n",
       "    }\n",
       "\n",
       "    .dataframe thead th {\n",
       "        text-align: right;\n",
       "    }\n",
       "</style>\n",
       "<table border=\"1\" class=\"dataframe\">\n",
       "  <thead>\n",
       "    <tr style=\"text-align: right;\">\n",
       "      <th></th>\n",
       "      <th>Id</th>\n",
       "      <th>date</th>\n",
       "      <th>open</th>\n",
       "      <th>high</th>\n",
       "      <th>low</th>\n",
       "      <th>close</th>\n",
       "      <th>day</th>\n",
       "      <th>week</th>\n",
       "      <th>SMA_7</th>\n",
       "      <th>SMA_14</th>\n",
       "      <th>...</th>\n",
       "      <th>RSI_21</th>\n",
       "      <th>ATR_14</th>\n",
       "      <th>bb_mavg</th>\n",
       "      <th>bb_hband</th>\n",
       "      <th>bb_lband</th>\n",
       "      <th>target</th>\n",
       "      <th>year</th>\n",
       "      <th>month</th>\n",
       "      <th>hour</th>\n",
       "      <th>minute</th>\n",
       "    </tr>\n",
       "  </thead>\n",
       "  <tbody>\n",
       "    <tr>\n",
       "      <th>0</th>\n",
       "      <td>0</td>\n",
       "      <td>2015-01-12 09:15:00+05:30</td>\n",
       "      <td>0.252483</td>\n",
       "      <td>0.249671</td>\n",
       "      <td>0.255665</td>\n",
       "      <td>0.250255</td>\n",
       "      <td>12</td>\n",
       "      <td>3</td>\n",
       "      <td>0.249131</td>\n",
       "      <td>0.246873</td>\n",
       "      <td>...</td>\n",
       "      <td>45.263488</td>\n",
       "      <td>0.007017</td>\n",
       "      <td>0.247667</td>\n",
       "      <td>0.256181</td>\n",
       "      <td>0.239153</td>\n",
       "      <td>1</td>\n",
       "      <td>2015</td>\n",
       "      <td>1</td>\n",
       "      <td>9</td>\n",
       "      <td>15</td>\n",
       "    </tr>\n",
       "    <tr>\n",
       "      <th>1</th>\n",
       "      <td>1</td>\n",
       "      <td>2015-01-12 09:30:00+05:30</td>\n",
       "      <td>0.247851</td>\n",
       "      <td>0.246028</td>\n",
       "      <td>0.257602</td>\n",
       "      <td>0.251258</td>\n",
       "      <td>12</td>\n",
       "      <td>3</td>\n",
       "      <td>0.250327</td>\n",
       "      <td>0.247607</td>\n",
       "      <td>...</td>\n",
       "      <td>46.453986</td>\n",
       "      <td>0.007040</td>\n",
       "      <td>0.247534</td>\n",
       "      <td>0.255730</td>\n",
       "      <td>0.239338</td>\n",
       "      <td>0</td>\n",
       "      <td>2015</td>\n",
       "      <td>1</td>\n",
       "      <td>9</td>\n",
       "      <td>30</td>\n",
       "    </tr>\n",
       "    <tr>\n",
       "      <th>2</th>\n",
       "      <td>2</td>\n",
       "      <td>2015-01-12 09:45:00+05:30</td>\n",
       "      <td>0.248817</td>\n",
       "      <td>0.248992</td>\n",
       "      <td>0.259178</td>\n",
       "      <td>0.253956</td>\n",
       "      <td>12</td>\n",
       "      <td>3</td>\n",
       "      <td>0.251520</td>\n",
       "      <td>0.248550</td>\n",
       "      <td>...</td>\n",
       "      <td>49.554022</td>\n",
       "      <td>0.007103</td>\n",
       "      <td>0.247566</td>\n",
       "      <td>0.255858</td>\n",
       "      <td>0.239275</td>\n",
       "      <td>1</td>\n",
       "      <td>2015</td>\n",
       "      <td>1</td>\n",
       "      <td>9</td>\n",
       "      <td>45</td>\n",
       "    </tr>\n",
       "    <tr>\n",
       "      <th>3</th>\n",
       "      <td>3</td>\n",
       "      <td>2015-01-12 10:00:00+05:30</td>\n",
       "      <td>0.251481</td>\n",
       "      <td>0.249916</td>\n",
       "      <td>0.260682</td>\n",
       "      <td>0.253628</td>\n",
       "      <td>12</td>\n",
       "      <td>3</td>\n",
       "      <td>0.252341</td>\n",
       "      <td>0.248788</td>\n",
       "      <td>...</td>\n",
       "      <td>49.190342</td>\n",
       "      <td>0.007076</td>\n",
       "      <td>0.247743</td>\n",
       "      <td>0.256385</td>\n",
       "      <td>0.239101</td>\n",
       "      <td>0</td>\n",
       "      <td>2015</td>\n",
       "      <td>1</td>\n",
       "      <td>10</td>\n",
       "      <td>0</td>\n",
       "    </tr>\n",
       "    <tr>\n",
       "      <th>4</th>\n",
       "      <td>4</td>\n",
       "      <td>2015-01-12 10:15:00+05:30</td>\n",
       "      <td>0.251066</td>\n",
       "      <td>0.250750</td>\n",
       "      <td>0.262421</td>\n",
       "      <td>0.255314</td>\n",
       "      <td>12</td>\n",
       "      <td>3</td>\n",
       "      <td>0.253037</td>\n",
       "      <td>0.249406</td>\n",
       "      <td>...</td>\n",
       "      <td>51.125779</td>\n",
       "      <td>0.007199</td>\n",
       "      <td>0.248086</td>\n",
       "      <td>0.257337</td>\n",
       "      <td>0.238835</td>\n",
       "      <td>0</td>\n",
       "      <td>2015</td>\n",
       "      <td>1</td>\n",
       "      <td>10</td>\n",
       "      <td>15</td>\n",
       "    </tr>\n",
       "  </tbody>\n",
       "</table>\n",
       "<p>5 rows × 23 columns</p>\n",
       "</div>"
      ],
      "text/plain": [
       "   Id                      date      open      high       low     close  day  \\\n",
       "0   0 2015-01-12 09:15:00+05:30  0.252483  0.249671  0.255665  0.250255   12   \n",
       "1   1 2015-01-12 09:30:00+05:30  0.247851  0.246028  0.257602  0.251258   12   \n",
       "2   2 2015-01-12 09:45:00+05:30  0.248817  0.248992  0.259178  0.253956   12   \n",
       "3   3 2015-01-12 10:00:00+05:30  0.251481  0.249916  0.260682  0.253628   12   \n",
       "4   4 2015-01-12 10:15:00+05:30  0.251066  0.250750  0.262421  0.255314   12   \n",
       "\n",
       "   week     SMA_7    SMA_14  ...     RSI_21    ATR_14   bb_mavg  bb_hband  \\\n",
       "0     3  0.249131  0.246873  ...  45.263488  0.007017  0.247667  0.256181   \n",
       "1     3  0.250327  0.247607  ...  46.453986  0.007040  0.247534  0.255730   \n",
       "2     3  0.251520  0.248550  ...  49.554022  0.007103  0.247566  0.255858   \n",
       "3     3  0.252341  0.248788  ...  49.190342  0.007076  0.247743  0.256385   \n",
       "4     3  0.253037  0.249406  ...  51.125779  0.007199  0.248086  0.257337   \n",
       "\n",
       "   bb_lband  target  year  month  hour  minute  \n",
       "0  0.239153       1  2015      1     9      15  \n",
       "1  0.239338       0  2015      1     9      30  \n",
       "2  0.239275       1  2015      1     9      45  \n",
       "3  0.239101       0  2015      1    10       0  \n",
       "4  0.238835       0  2015      1    10      15  \n",
       "\n",
       "[5 rows x 23 columns]"
      ]
     },
     "execution_count": 21,
     "metadata": {},
     "output_type": "execute_result"
    }
   ],
   "source": [
    "df_train.head()"
   ]
  },
  {
   "cell_type": "code",
   "execution_count": 22,
   "id": "1eb99ee2",
   "metadata": {
    "execution": {
     "iopub.execute_input": "2021-12-08T16:02:57.859151Z",
     "iopub.status.busy": "2021-12-08T16:02:57.855886Z",
     "iopub.status.idle": "2021-12-08T16:04:40.060987Z",
     "shell.execute_reply": "2021-12-08T16:04:40.061456Z",
     "shell.execute_reply.started": "2021-12-08T15:51:57.074454Z"
    },
    "papermill": {
     "duration": 102.242807,
     "end_time": "2021-12-08T16:04:40.061656",
     "exception": false,
     "start_time": "2021-12-08T16:02:57.818849",
     "status": "completed"
    },
    "tags": []
   },
   "outputs": [
    {
     "name": "stdout",
     "output_type": "stream",
     "text": [
      "[0]\tvalidation_0-error:0.49412\n",
      "[100]\tvalidation_0-error:0.49412\n",
      "[200]\tvalidation_0-error:0.49177\n",
      "[300]\tvalidation_0-error:0.49706\n",
      "[400]\tvalidation_0-error:0.49529\n",
      "[499]\tvalidation_0-error:0.49059\n",
      "0 0.5097314507198228\n",
      "[0]\tvalidation_0-error:0.49294\n",
      "[100]\tvalidation_0-error:0.49294\n",
      "[200]\tvalidation_0-error:0.48941\n",
      "[300]\tvalidation_0-error:0.49353\n",
      "[400]\tvalidation_0-error:0.48471\n",
      "[499]\tvalidation_0-error:0.48000\n",
      "1 0.5186846928661214\n",
      "[0]\tvalidation_0-error:0.50000\n",
      "[100]\tvalidation_0-error:0.50000\n",
      "[200]\tvalidation_0-error:0.49882\n",
      "[300]\tvalidation_0-error:0.49706\n",
      "[400]\tvalidation_0-error:0.50353\n",
      "[499]\tvalidation_0-error:0.50765\n",
      "2 0.5052941176470588\n",
      "[0]\tvalidation_0-error:0.50000\n",
      "[100]\tvalidation_0-error:0.50000\n",
      "[200]\tvalidation_0-error:0.49706\n",
      "[300]\tvalidation_0-error:0.50000\n",
      "[400]\tvalidation_0-error:0.50118\n",
      "[499]\tvalidation_0-error:0.49412\n",
      "3 0.5058823529411764\n",
      "[0]\tvalidation_0-error:0.49000\n",
      "[100]\tvalidation_0-error:0.49000\n",
      "[200]\tvalidation_0-error:0.49177\n",
      "[300]\tvalidation_0-error:0.48647\n",
      "[400]\tvalidation_0-error:0.49412\n",
      "[499]\tvalidation_0-error:0.48765\n",
      "4 0.5075441941482476\n",
      "[0]\tvalidation_0-error:0.48412\n",
      "[100]\tvalidation_0-error:0.48412\n",
      "[200]\tvalidation_0-error:0.48235\n",
      "[300]\tvalidation_0-error:0.48000\n",
      "[400]\tvalidation_0-error:0.46882\n",
      "[499]\tvalidation_0-error:0.47059\n",
      "5 0.5215643188767629\n",
      "[0]\tvalidation_0-error:0.49294\n",
      "[100]\tvalidation_0-error:0.49294\n",
      "[200]\tvalidation_0-error:0.49353\n",
      "[300]\tvalidation_0-error:0.48706\n",
      "[400]\tvalidation_0-error:0.48706\n",
      "[499]\tvalidation_0-error:0.48471\n",
      "6 0.5126336598574665\n",
      "[0]\tvalidation_0-error:0.48059\n",
      "[100]\tvalidation_0-error:0.48059\n",
      "[200]\tvalidation_0-error:0.48294\n",
      "[300]\tvalidation_0-error:0.47294\n",
      "[400]\tvalidation_0-error:0.47412\n",
      "[499]\tvalidation_0-error:0.47294\n",
      "7 0.5164136671051592\n",
      "[0]\tvalidation_0-error:0.48647\n",
      "[100]\tvalidation_0-error:0.48647\n",
      "[200]\tvalidation_0-error:0.48294\n",
      "[300]\tvalidation_0-error:0.47412\n",
      "[400]\tvalidation_0-error:0.48176\n",
      "[499]\tvalidation_0-error:0.47882\n",
      "8 0.5162312613664537\n",
      "[0]\tvalidation_0-error:0.49000\n",
      "[100]\tvalidation_0-error:0.49000\n",
      "[200]\tvalidation_0-error:0.49000\n",
      "[300]\tvalidation_0-error:0.48529\n",
      "[400]\tvalidation_0-error:0.47235\n",
      "[499]\tvalidation_0-error:0.46941\n",
      "9 0.5277169691405974\n",
      "[0]\tvalidation_0-error:0.46882\n",
      "[100]\tvalidation_0-error:0.46824\n",
      "[200]\tvalidation_0-error:0.47059\n",
      "[300]\tvalidation_0-error:0.47176\n",
      "[400]\tvalidation_0-error:0.46941\n",
      "[499]\tvalidation_0-error:0.47941\n",
      "10 0.5140004529721783\n",
      "[0]\tvalidation_0-error:0.48823\n",
      "[100]\tvalidation_0-error:0.48823\n",
      "[200]\tvalidation_0-error:0.48647\n",
      "[300]\tvalidation_0-error:0.48294\n",
      "[400]\tvalidation_0-error:0.47588\n",
      "[499]\tvalidation_0-error:0.47235\n",
      "11 0.5208212158980751\n",
      "[0]\tvalidation_0-error:0.47941\n",
      "[100]\tvalidation_0-error:0.47941\n",
      "[200]\tvalidation_0-error:0.47882\n",
      "[300]\tvalidation_0-error:0.47471\n",
      "[400]\tvalidation_0-error:0.47765\n",
      "[499]\tvalidation_0-error:0.47647\n",
      "12 0.5099337977886381\n",
      "[0]\tvalidation_0-error:0.49765\n",
      "[100]\tvalidation_0-error:0.49765\n",
      "[200]\tvalidation_0-error:0.50118\n",
      "[300]\tvalidation_0-error:0.50059\n",
      "13 0.5\n",
      "[0]\tvalidation_0-error:0.50647\n",
      "[100]\tvalidation_0-error:0.50647\n",
      "[200]\tvalidation_0-error:0.50823\n",
      "[300]\tvalidation_0-error:0.51529\n",
      "[400]\tvalidation_0-error:0.51353\n",
      "[416]\tvalidation_0-error:0.51412\n",
      "14 0.5011614401858304\n",
      "0.5125075727675726 0.007624783075182158\n"
     ]
    }
   ],
   "source": [
    "df_train[\"kfold\"] = -1\n",
    "kf = model_selection.KFold(n_splits=15, shuffle=True, random_state=42)\n",
    "for fld, (train_indicies, valid_indicies) in enumerate(kf.split(X=df_train)):\n",
    "    df_train.loc[valid_indicies, \"kfold\"] = fld\n",
    "df_train.to_csv(\"train_folds.csv\", index=False)\n",
    "object_col = [col for col in df_train.columns if 'cat' in col]\n",
    "not_req_tw=[]\n",
    "not_req_tw.append('Id')\n",
    "not_req_tw.append('kfold')\n",
    "not_req_tw.append('date')\n",
    "not_req_tw.append('target')\n",
    "not_req_tw.append('day')\n",
    "not_req_tw.append('week')\n",
    "req_features_tw=[col for col in df_train.columns if col not in not_req_tw]\n",
    "df_test=df_test[req_features_tw]\n",
    "sample_submission=pd.read_csv(\"/kaggle/input/r-street-quant-challenge/sample_submission.csv\")\n",
    "final_test_predictions = []\n",
    "final_valid_predictions = {}\n",
    "best_pred={'val':-0.5,'dat':sample_submission}\n",
    "scores = []\n",
    "final_pred=[] #save your predictions in this list\n",
    "for fld in range(15):\n",
    "    xtrain=df_train[df_train.kfold!=fld].reset_index(drop=True)\n",
    "    xvalid=df_train[df_train.kfold==fld].reset_index(drop=True)\n",
    "    ytrain=xtrain.target\n",
    "    yvalid=xvalid.target\n",
    "    xtest= df_test.copy()\n",
    "    xtrain=xtrain[req_features_tw]\n",
    "    valid_ids = xvalid.Id.values.tolist()\n",
    "    xvalid=xvalid[req_features_tw]\n",
    "    normalizer = preprocessing.Normalizer().fit(xtrain)\n",
    "    xtrain = preprocessing.normalize(xtrain, norm='l2')\n",
    "    xtest=normalizer.transform(xtest)\n",
    "    xvalid=normalizer.transform(xvalid)\n",
    "    xtrain=pd.DataFrame(xtrain,columns=req_features_tw)\n",
    "    xvalid=pd.DataFrame(xvalid,columns=req_features_tw)\n",
    "    xtest=pd.DataFrame(xtest,columns=req_features_tw)\n",
    "    model = XGBRegressor( objective='binary:hinge',random_state=fld,\n",
    "        n_jobs=4,\n",
    "        n_estimators=500,**params_tw)\n",
    "    model.fit(xtrain, ytrain, early_stopping_rounds=300, eval_set=[(xvalid, yvalid)], verbose=100)\n",
    "    \n",
    "    preds_valid = model.predict(xvalid)\n",
    "    test_preds = model.predict(xtest)\n",
    "    final_test_predictions.append(test_preds)\n",
    "    final_valid_predictions.update(dict(zip(valid_ids, preds_valid)))\n",
    "    rmse = roc_auc_score(yvalid, preds_valid)\n",
    "    print(fld, rmse)\n",
    "    scores.append(rmse)\n",
    "    if(rmse>best_pred['val']):\n",
    "        best_pred['val']=rmse\n",
    "        best_pred['dat']=test_preds\n",
    "print(np.mean(scores), np.std(scores))\n",
    "final_valid_predictions = pd.DataFrame.from_dict(final_valid_predictions, orient=\"index\").reset_index()\n",
    "final_valid_predictions.columns = [\"Id\", \"target\"]\n",
    "final_valid_predictions.to_csv(\"train_pred_2.csv\", index=False)\n",
    "sample_submission.target = np.mean(np.column_stack(final_test_predictions), axis=1)\n",
    "sample_submission.columns = [\"Id\", \"target\"]\n",
    "sample_submission.to_csv(\"sample_submission.csv\", index=False)"
   ]
  },
  {
   "cell_type": "code",
   "execution_count": null,
   "id": "33aa1ff7",
   "metadata": {
    "execution": {
     "iopub.execute_input": "2021-12-08T16:00:42.712632Z",
     "iopub.status.busy": "2021-12-08T16:00:42.712319Z",
     "iopub.status.idle": "2021-12-08T16:00:42.726394Z",
     "shell.execute_reply": "2021-12-08T16:00:42.725407Z",
     "shell.execute_reply.started": "2021-12-08T16:00:42.712601Z"
    },
    "papermill": {
     "duration": 0.04229,
     "end_time": "2021-12-08T16:04:40.147346",
     "exception": false,
     "start_time": "2021-12-08T16:04:40.105056",
     "status": "completed"
    },
    "tags": []
   },
   "outputs": [],
   "source": [
    "\n"
   ]
  },
  {
   "cell_type": "code",
   "execution_count": 23,
   "id": "70ebb59a",
   "metadata": {
    "execution": {
     "iopub.execute_input": "2021-12-08T16:04:40.243800Z",
     "iopub.status.busy": "2021-12-08T16:04:40.243170Z",
     "iopub.status.idle": "2021-12-08T16:04:40.256663Z",
     "shell.execute_reply": "2021-12-08T16:04:40.257115Z",
     "shell.execute_reply.started": "2021-12-08T16:01:51.660760Z"
    },
    "papermill": {
     "duration": 0.067104,
     "end_time": "2021-12-08T16:04:40.257301",
     "exception": false,
     "start_time": "2021-12-08T16:04:40.190197",
     "status": "completed"
    },
    "tags": []
   },
   "outputs": [],
   "source": [
    "sample_submission['target'] = sample_submission['target'].apply(lambda x: 0 if x <= 0.6 else 1)\n",
    "sample_submission.columns = [\"Id\", \"target\"]\n",
    "sample_submission.to_csv(\"submission.csv\", index=False)\n"
   ]
  },
  {
   "cell_type": "code",
   "execution_count": null,
   "id": "a5925390",
   "metadata": {
    "papermill": {
     "duration": 0.043329,
     "end_time": "2021-12-08T16:04:40.343787",
     "exception": false,
     "start_time": "2021-12-08T16:04:40.300458",
     "status": "completed"
    },
    "tags": []
   },
   "outputs": [],
   "source": []
  },
  {
   "cell_type": "code",
   "execution_count": null,
   "id": "5d18c68f",
   "metadata": {
    "papermill": {
     "duration": 0.043224,
     "end_time": "2021-12-08T16:04:40.430212",
     "exception": false,
     "start_time": "2021-12-08T16:04:40.386988",
     "status": "completed"
    },
    "tags": []
   },
   "outputs": [],
   "source": []
  }
 ],
 "metadata": {
  "kernelspec": {
   "display_name": "Python 3",
   "language": "python",
   "name": "python3"
  },
  "language_info": {
   "codemirror_mode": {
    "name": "ipython",
    "version": 3
   },
   "file_extension": ".py",
   "mimetype": "text/x-python",
   "name": "python",
   "nbconvert_exporter": "python",
   "pygments_lexer": "ipython3",
   "version": "3.7.12"
  },
  "papermill": {
   "default_parameters": {},
   "duration": 117.154278,
   "end_time": "2021-12-08T16:04:41.286736",
   "environment_variables": {},
   "exception": null,
   "input_path": "__notebook__.ipynb",
   "output_path": "__notebook__.ipynb",
   "parameters": {},
   "start_time": "2021-12-08T16:02:44.132458",
   "version": "2.3.3"
  }
 },
 "nbformat": 4,
 "nbformat_minor": 5
}
